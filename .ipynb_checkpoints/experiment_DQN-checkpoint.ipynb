{
 "cells": [
  {
   "cell_type": "code",
   "execution_count": 2,
   "id": "9466214f",
   "metadata": {},
   "outputs": [],
   "source": [
    "import gym\n",
    "import torch\n",
    "import random\n",
    "import numpy as np\n",
    "from torch import optim\n",
    "from gym.utils import play\n",
    "from dqn import ReplayMemory, DQN_agent\n",
    "\n",
    "from collections import namedtuple"
   ]
  },
  {
   "cell_type": "markdown",
   "id": "1518a058",
   "metadata": {},
   "source": [
    "#### Before rewrite"
   ]
  },
  {
   "cell_type": "code",
   "execution_count": null,
   "id": "2491732a",
   "metadata": {},
   "outputs": [],
   "source": [
    "policy_net = DQN() # used for calculating Q(s, a)\n",
    "target_net = DQN() # used for calculating gamma * Q(s', a')\n",
    "target_net.load_state_dict(policy_net.state_dict())\n",
    "target_net.eval()\n",
    "optimizer = optim.SGD(policy_net.parameters(), lr=0.001)"
   ]
  },
  {
   "cell_type": "code",
   "execution_count": null,
   "id": "dbe364cc",
   "metadata": {},
   "outputs": [],
   "source": [
    "def epsilon_greedy(state, epsilon):\n",
    "    # returns optimal action under current Q values epsilon-greedily\n",
    "    trial = random.random()\n",
    "#     print(\"epsilon: \", epsilon)\n",
    "    if trial < epsilon:\n",
    "#         print(\"random action\")\n",
    "        return random.randint(0, 1)\n",
    "    else:\n",
    "        with torch.no_grad():\n",
    "            x = policy_net(torch.FloatTensor(state))\n",
    "#             print(x, x.argmax().item())\n",
    "            return x.argmax().item()"
   ]
  },
  {
   "cell_type": "code",
   "execution_count": null,
   "id": "eb92881c",
   "metadata": {},
   "outputs": [],
   "source": [
    "def learn(batch):\n",
    "    # update model parameters\n",
    "    # batch_i = (s, a, r, s') -- (0, 1, 2, 3)\n",
    "    \n",
    "    states = torch.cat(batch.state).view(BATCH_SIZE, 4)\n",
    "    actions = torch.tensor(batch.action)\n",
    "    rewards = torch.tensor(batch.reward)\n",
    "    \n",
    "    expected_next_state_rewards = torch.zeros(BATCH_SIZE)\n",
    "    non_terminal_next_state_mask = torch.tensor(list(map(lambda ns: ns is not None, batch.next_state)))\n",
    "    \n",
    "    non_terminal_next_states = torch.tensor([ns for ns in batch.next_state if ns is not None])\n",
    "    next_state_q_values_best = target_network(non_terminal_next_states).max(1)[0].detach()\n",
    "    \n",
    "    # computing r_s + GAMMA * max(q(s', a'))\n",
    "    expected_next_state_rewards[non_terminal_next_state_mask] = GAMMA * next_state_q_values_best\n",
    "    expected_next_state_rewards = expected_next_state_rewards + rewards\n",
    "    \n",
    "    predicted_reward_to_go = policy_net(states)\n",
    "    q_s_a = torch.gather(predicted_reward_to_go, 1, actions.view(BATCH_SIZE, 1)).flatten() \n",
    "    \n",
    "    # gradient descent\n",
    "    optimizer.zero_grad()\n",
    "    criterion = nn.MSELoss()\n",
    "    loss = criterion(q_s_a,expected_next_state_rewards)\n",
    "    loss.backward()\n",
    "    # clipping gradient\n",
    "    for param in policy_net.parameters():\n",
    "        param.grad.data.clamp_(-1, 1)\n",
    "    optimizer.step()"
   ]
  },
  {
   "cell_type": "code",
   "execution_count": null,
   "id": "7967ffab",
   "metadata": {},
   "outputs": [],
   "source": [
    "## Training\n",
    "env = gym.make(\"CartPole-v0\")\n",
    "EPS_INIT = 1\n",
    "EPS_DECAY = 0.9\n",
    "EPS_MIN = 0.05\n",
    "GAMMA = 0.999\n",
    "BATCH_SIZE = 128\n",
    "\n",
    "epsilon = EPS_INIT\n",
    "memory_length = 100000\n",
    "\n",
    "i = 0\n",
    "durations = []\n",
    "memory = ReplayMemory(memory_length=memory_length)\n",
    "for episode in range(10):\n",
    "    obs = env.reset()\n",
    "    s = torch.FloatTensor(obs)\n",
    "    done = False\n",
    "    env.render()\n",
    "    \n",
    "    duration = 0\n",
    "    print([x[1] for x in memory.memory])\n",
    "    while not done:\n",
    "        duration += 1\n",
    "        \n",
    "        action = epsilon_greedy(s, epsilon)\n",
    "        obs, reward, done, info = env.step(action)\n",
    "        \n",
    "        if done:\n",
    "            obs = None # ended in a terminal state\n",
    "        else:\n",
    "            obs = torch.FloatTensor(obs)\n",
    "        \n",
    "        transition = [s, action, reward, obs] # s-a-r-s'\n",
    "        memory.add_info(transition)\n",
    "        \n",
    "        # learn\n",
    "        if len(memory) == memory_length:\n",
    "            batch = memory.sample(BATCH_SIZE)\n",
    "            batch = Transition(*zip(*batch))\n",
    "            learn(batch)\n",
    "        \n",
    "        if i % 10 == 0:\n",
    "            # update target net\n",
    "            target_net.load_state_dict(policy_net.state_dict())\n",
    "        \n",
    "        if epsilon * EPS_DECAY > EPS_MIN:\n",
    "            epsilon *= EPS_DECAY\n",
    "        else:\n",
    "            epsilon = EPS_MIN\n",
    "        \n",
    "        s = obs\n",
    "        i += 1\n",
    "    durations.append(duration)\n",
    "env.close()"
   ]
  },
  {
   "cell_type": "code",
   "execution_count": null,
   "id": "58e908e3",
   "metadata": {
    "scrolled": true
   },
   "outputs": [],
   "source": [
    "print(np.mean(durations))"
   ]
  },
  {
   "cell_type": "code",
   "execution_count": null,
   "id": "23ff6232",
   "metadata": {},
   "outputs": [],
   "source": [
    "try:\n",
    "    durations = []\n",
    "    duration = 0\n",
    "    for t in range(1000):\n",
    "        duration += 1\n",
    "        env.render()\n",
    "        action = env.action_space.sample() # random action\n",
    "        obs, reward, done, info = env.step(action) # info is a dictionary\n",
    "\n",
    "        if done: # ended in terminal state\n",
    "            obs = env.reset()\n",
    "            durations.append(duration)\n",
    "            duration = 0\n",
    "finally:\n",
    "    env.close()\n"
   ]
  },
  {
   "cell_type": "markdown",
   "id": "ebd42e84",
   "metadata": {},
   "source": [
    "#### After Rewrite"
   ]
  },
  {
   "cell_type": "code",
   "execution_count": null,
   "id": "58b6bdad",
   "metadata": {},
   "outputs": [],
   "source": [
    "import gym\n",
    "import torch\n",
    "import random\n",
    "import numpy as np\n",
    "from torch import optim\n",
    "from gym.utils import play\n",
    "from agent import ReplayMemory, DQN_One, DQN, train\n",
    "\n",
    "from collections import namedtuple"
   ]
  },
  {
   "cell_type": "code",
   "execution_count": null,
   "id": "899ed64b",
   "metadata": {},
   "outputs": [],
   "source": [
    "env = gym.make(\"CartPole-v0\")\n",
    "agent = DQN(memory_length=1000)"
   ]
  },
  {
   "cell_type": "code",
   "execution_count": null,
   "id": "05f5eea7",
   "metadata": {},
   "outputs": [],
   "source": [
    "train(agent, env, 32, 0.99, 1, 0.99, 0.05, 2)"
   ]
  },
  {
   "cell_type": "code",
   "execution_count": null,
   "id": "6a83f973",
   "metadata": {},
   "outputs": [],
   "source": [
    "random.randrange(2)"
   ]
  },
  {
   "cell_type": "code",
   "execution_count": null,
   "id": "dafe1333",
   "metadata": {},
   "outputs": [],
   "source": [
    "torch.tensor([1, 1]).argmax()"
   ]
  },
  {
   "cell_type": "code",
   "execution_count": null,
   "id": "8a186f71",
   "metadata": {},
   "outputs": [],
   "source": [
    "torch.tensor(2)"
   ]
  },
  {
   "cell_type": "markdown",
   "id": "07d250d2",
   "metadata": {},
   "source": [
    "#### Trading Env"
   ]
  },
  {
   "cell_type": "code",
   "execution_count": 27,
   "id": "38338ad3",
   "metadata": {},
   "outputs": [],
   "source": [
    "from crypto_env import CryptoEnv\n",
    "import pandas as pd"
   ]
  },
  {
   "cell_type": "code",
   "execution_count": 32,
   "id": "3d416f1b",
   "metadata": {},
   "outputs": [],
   "source": [
    "from gym_anytrading.envs import StocksEnv"
   ]
  },
  {
   "cell_type": "code",
   "execution_count": 36,
   "id": "78378039",
   "metadata": {},
   "outputs": [],
   "source": [
    "df = pd.read_csv(\"data/raw/STOCKS_GOOGL.csv\")\n",
    "# df.columns=['Time', 'Open', 'High', 'Low', 'Close', 'Volume']"
   ]
  },
  {
   "cell_type": "code",
   "execution_count": 37,
   "id": "98c34d4e",
   "metadata": {},
   "outputs": [
    {
     "data": {
      "text/html": [
       "<div>\n",
       "<style scoped>\n",
       "    .dataframe tbody tr th:only-of-type {\n",
       "        vertical-align: middle;\n",
       "    }\n",
       "\n",
       "    .dataframe tbody tr th {\n",
       "        vertical-align: top;\n",
       "    }\n",
       "\n",
       "    .dataframe thead th {\n",
       "        text-align: right;\n",
       "    }\n",
       "</style>\n",
       "<table border=\"1\" class=\"dataframe\">\n",
       "  <thead>\n",
       "    <tr style=\"text-align: right;\">\n",
       "      <th></th>\n",
       "      <th>Date</th>\n",
       "      <th>Open</th>\n",
       "      <th>High</th>\n",
       "      <th>Low</th>\n",
       "      <th>Close</th>\n",
       "      <th>Adj Close</th>\n",
       "      <th>Volume</th>\n",
       "    </tr>\n",
       "  </thead>\n",
       "  <tbody>\n",
       "    <tr>\n",
       "      <th>0</th>\n",
       "      <td>2009-05-22</td>\n",
       "      <td>198.528534</td>\n",
       "      <td>199.524521</td>\n",
       "      <td>196.196198</td>\n",
       "      <td>196.946945</td>\n",
       "      <td>196.946945</td>\n",
       "      <td>3433700</td>\n",
       "    </tr>\n",
       "    <tr>\n",
       "      <th>1</th>\n",
       "      <td>2009-05-26</td>\n",
       "      <td>196.171173</td>\n",
       "      <td>202.702698</td>\n",
       "      <td>195.195190</td>\n",
       "      <td>202.382385</td>\n",
       "      <td>202.382385</td>\n",
       "      <td>6202700</td>\n",
       "    </tr>\n",
       "    <tr>\n",
       "      <th>2</th>\n",
       "      <td>2009-05-27</td>\n",
       "      <td>203.023026</td>\n",
       "      <td>206.136139</td>\n",
       "      <td>202.607605</td>\n",
       "      <td>202.982986</td>\n",
       "      <td>202.982986</td>\n",
       "      <td>6062500</td>\n",
       "    </tr>\n",
       "    <tr>\n",
       "      <th>3</th>\n",
       "      <td>2009-05-28</td>\n",
       "      <td>204.544540</td>\n",
       "      <td>206.016022</td>\n",
       "      <td>202.507507</td>\n",
       "      <td>205.405411</td>\n",
       "      <td>205.405411</td>\n",
       "      <td>5332200</td>\n",
       "    </tr>\n",
       "    <tr>\n",
       "      <th>4</th>\n",
       "      <td>2009-05-29</td>\n",
       "      <td>206.261261</td>\n",
       "      <td>208.823822</td>\n",
       "      <td>205.555557</td>\n",
       "      <td>208.823822</td>\n",
       "      <td>208.823822</td>\n",
       "      <td>5291100</td>\n",
       "    </tr>\n",
       "  </tbody>\n",
       "</table>\n",
       "</div>"
      ],
      "text/plain": [
       "         Date        Open        High         Low       Close   Adj Close  \\\n",
       "0  2009-05-22  198.528534  199.524521  196.196198  196.946945  196.946945   \n",
       "1  2009-05-26  196.171173  202.702698  195.195190  202.382385  202.382385   \n",
       "2  2009-05-27  203.023026  206.136139  202.607605  202.982986  202.982986   \n",
       "3  2009-05-28  204.544540  206.016022  202.507507  205.405411  205.405411   \n",
       "4  2009-05-29  206.261261  208.823822  205.555557  208.823822  208.823822   \n",
       "\n",
       "    Volume  \n",
       "0  3433700  \n",
       "1  6202700  \n",
       "2  6062500  \n",
       "3  5332200  \n",
       "4  5291100  "
      ]
     },
     "execution_count": 37,
     "metadata": {},
     "output_type": "execute_result"
    }
   ],
   "source": [
    "df.head()"
   ]
  },
  {
   "cell_type": "code",
   "execution_count": 38,
   "id": "65106ff5",
   "metadata": {
    "scrolled": false
   },
   "outputs": [
    {
     "ename": "ValueError",
     "evalue": "all the input array dimensions for the concatenation axis must match exactly, but along dimension 0, the array at index 0 has size 0 and the array at index 1 has size 1",
     "output_type": "error",
     "traceback": [
      "\u001b[0;31m---------------------------------------------------------------------------\u001b[0m",
      "\u001b[0;31mValueError\u001b[0m                                Traceback (most recent call last)",
      "\u001b[0;32m/var/folders/xz/n0y08r_x22zbwf9d7vsmv2p80000gn/T/ipykernel_58601/208720356.py\u001b[0m in \u001b[0;36m<module>\u001b[0;34m\u001b[0m\n\u001b[0;32m----> 1\u001b[0;31m \u001b[0menv\u001b[0m \u001b[0;34m=\u001b[0m \u001b[0mStocksEnv\u001b[0m\u001b[0;34m(\u001b[0m\u001b[0mdf\u001b[0m\u001b[0;34m,\u001b[0m \u001b[0mwindow_size\u001b[0m\u001b[0;34m=\u001b[0m\u001b[0;36m32\u001b[0m\u001b[0;34m,\u001b[0m \u001b[0mframe_bound\u001b[0m\u001b[0;34m=\u001b[0m\u001b[0;34m(\u001b[0m\u001b[0;36m3\u001b[0m\u001b[0;34m,\u001b[0m \u001b[0;36m10\u001b[0m\u001b[0;34m)\u001b[0m\u001b[0;34m)\u001b[0m\u001b[0;34m\u001b[0m\u001b[0;34m\u001b[0m\u001b[0m\n\u001b[0m",
      "\u001b[0;32m/usr/local/anaconda3/envs/rl_trading/lib/python3.8/site-packages/gym_anytrading/envs/stocks_env.py\u001b[0m in \u001b[0;36m__init__\u001b[0;34m(self, df, window_size, frame_bound)\u001b[0m\n\u001b[1;32m     10\u001b[0m \u001b[0;34m\u001b[0m\u001b[0m\n\u001b[1;32m     11\u001b[0m         \u001b[0mself\u001b[0m\u001b[0;34m.\u001b[0m\u001b[0mframe_bound\u001b[0m \u001b[0;34m=\u001b[0m \u001b[0mframe_bound\u001b[0m\u001b[0;34m\u001b[0m\u001b[0;34m\u001b[0m\u001b[0m\n\u001b[0;32m---> 12\u001b[0;31m         \u001b[0msuper\u001b[0m\u001b[0;34m(\u001b[0m\u001b[0;34m)\u001b[0m\u001b[0;34m.\u001b[0m\u001b[0m__init__\u001b[0m\u001b[0;34m(\u001b[0m\u001b[0mdf\u001b[0m\u001b[0;34m,\u001b[0m \u001b[0mwindow_size\u001b[0m\u001b[0;34m)\u001b[0m\u001b[0;34m\u001b[0m\u001b[0;34m\u001b[0m\u001b[0m\n\u001b[0m\u001b[1;32m     13\u001b[0m \u001b[0;34m\u001b[0m\u001b[0m\n\u001b[1;32m     14\u001b[0m         \u001b[0mself\u001b[0m\u001b[0;34m.\u001b[0m\u001b[0mtrade_fee_bid_percent\u001b[0m \u001b[0;34m=\u001b[0m \u001b[0;36m0.01\u001b[0m  \u001b[0;31m# unit\u001b[0m\u001b[0;34m\u001b[0m\u001b[0;34m\u001b[0m\u001b[0m\n",
      "\u001b[0;32m/usr/local/anaconda3/envs/rl_trading/lib/python3.8/site-packages/gym_anytrading/envs/trading_env.py\u001b[0m in \u001b[0;36m__init__\u001b[0;34m(self, df, window_size)\u001b[0m\n\u001b[1;32m     30\u001b[0m         \u001b[0mself\u001b[0m\u001b[0;34m.\u001b[0m\u001b[0mdf\u001b[0m \u001b[0;34m=\u001b[0m \u001b[0mdf\u001b[0m\u001b[0;34m\u001b[0m\u001b[0;34m\u001b[0m\u001b[0m\n\u001b[1;32m     31\u001b[0m         \u001b[0mself\u001b[0m\u001b[0;34m.\u001b[0m\u001b[0mwindow_size\u001b[0m \u001b[0;34m=\u001b[0m \u001b[0mwindow_size\u001b[0m\u001b[0;34m\u001b[0m\u001b[0;34m\u001b[0m\u001b[0m\n\u001b[0;32m---> 32\u001b[0;31m         \u001b[0mself\u001b[0m\u001b[0;34m.\u001b[0m\u001b[0mprices\u001b[0m\u001b[0;34m,\u001b[0m \u001b[0mself\u001b[0m\u001b[0;34m.\u001b[0m\u001b[0msignal_features\u001b[0m \u001b[0;34m=\u001b[0m \u001b[0mself\u001b[0m\u001b[0;34m.\u001b[0m\u001b[0m_process_data\u001b[0m\u001b[0;34m(\u001b[0m\u001b[0;34m)\u001b[0m\u001b[0;34m\u001b[0m\u001b[0;34m\u001b[0m\u001b[0m\n\u001b[0m\u001b[1;32m     33\u001b[0m         \u001b[0mself\u001b[0m\u001b[0;34m.\u001b[0m\u001b[0mshape\u001b[0m \u001b[0;34m=\u001b[0m \u001b[0;34m(\u001b[0m\u001b[0mwindow_size\u001b[0m\u001b[0;34m,\u001b[0m \u001b[0mself\u001b[0m\u001b[0;34m.\u001b[0m\u001b[0msignal_features\u001b[0m\u001b[0;34m.\u001b[0m\u001b[0mshape\u001b[0m\u001b[0;34m[\u001b[0m\u001b[0;36m1\u001b[0m\u001b[0;34m]\u001b[0m\u001b[0;34m)\u001b[0m\u001b[0;34m\u001b[0m\u001b[0;34m\u001b[0m\u001b[0m\n\u001b[1;32m     34\u001b[0m \u001b[0;34m\u001b[0m\u001b[0m\n",
      "\u001b[0;32m/usr/local/anaconda3/envs/rl_trading/lib/python3.8/site-packages/gym_anytrading/envs/stocks_env.py\u001b[0m in \u001b[0;36m_process_data\u001b[0;34m(self)\u001b[0m\n\u001b[1;32m     23\u001b[0m \u001b[0;34m\u001b[0m\u001b[0m\n\u001b[1;32m     24\u001b[0m         \u001b[0mdiff\u001b[0m \u001b[0;34m=\u001b[0m \u001b[0mnp\u001b[0m\u001b[0;34m.\u001b[0m\u001b[0minsert\u001b[0m\u001b[0;34m(\u001b[0m\u001b[0mnp\u001b[0m\u001b[0;34m.\u001b[0m\u001b[0mdiff\u001b[0m\u001b[0;34m(\u001b[0m\u001b[0mprices\u001b[0m\u001b[0;34m)\u001b[0m\u001b[0;34m,\u001b[0m \u001b[0;36m0\u001b[0m\u001b[0;34m,\u001b[0m \u001b[0;36m0\u001b[0m\u001b[0;34m)\u001b[0m\u001b[0;34m\u001b[0m\u001b[0;34m\u001b[0m\u001b[0m\n\u001b[0;32m---> 25\u001b[0;31m         \u001b[0msignal_features\u001b[0m \u001b[0;34m=\u001b[0m \u001b[0mnp\u001b[0m\u001b[0;34m.\u001b[0m\u001b[0mcolumn_stack\u001b[0m\u001b[0;34m(\u001b[0m\u001b[0;34m(\u001b[0m\u001b[0mprices\u001b[0m\u001b[0;34m,\u001b[0m \u001b[0mdiff\u001b[0m\u001b[0;34m)\u001b[0m\u001b[0;34m)\u001b[0m\u001b[0;34m\u001b[0m\u001b[0;34m\u001b[0m\u001b[0m\n\u001b[0m\u001b[1;32m     26\u001b[0m \u001b[0;34m\u001b[0m\u001b[0m\n\u001b[1;32m     27\u001b[0m         \u001b[0;32mreturn\u001b[0m \u001b[0mprices\u001b[0m\u001b[0;34m,\u001b[0m \u001b[0msignal_features\u001b[0m\u001b[0;34m\u001b[0m\u001b[0;34m\u001b[0m\u001b[0m\n",
      "\u001b[0;32m<__array_function__ internals>\u001b[0m in \u001b[0;36mcolumn_stack\u001b[0;34m(*args, **kwargs)\u001b[0m\n",
      "\u001b[0;32m/usr/local/anaconda3/envs/rl_trading/lib/python3.8/site-packages/numpy/lib/shape_base.py\u001b[0m in \u001b[0;36mcolumn_stack\u001b[0;34m(tup)\u001b[0m\n\u001b[1;32m    654\u001b[0m             \u001b[0marr\u001b[0m \u001b[0;34m=\u001b[0m \u001b[0marray\u001b[0m\u001b[0;34m(\u001b[0m\u001b[0marr\u001b[0m\u001b[0;34m,\u001b[0m \u001b[0mcopy\u001b[0m\u001b[0;34m=\u001b[0m\u001b[0;32mFalse\u001b[0m\u001b[0;34m,\u001b[0m \u001b[0msubok\u001b[0m\u001b[0;34m=\u001b[0m\u001b[0;32mTrue\u001b[0m\u001b[0;34m,\u001b[0m \u001b[0mndmin\u001b[0m\u001b[0;34m=\u001b[0m\u001b[0;36m2\u001b[0m\u001b[0;34m)\u001b[0m\u001b[0;34m.\u001b[0m\u001b[0mT\u001b[0m\u001b[0;34m\u001b[0m\u001b[0;34m\u001b[0m\u001b[0m\n\u001b[1;32m    655\u001b[0m         \u001b[0marrays\u001b[0m\u001b[0;34m.\u001b[0m\u001b[0mappend\u001b[0m\u001b[0;34m(\u001b[0m\u001b[0marr\u001b[0m\u001b[0;34m)\u001b[0m\u001b[0;34m\u001b[0m\u001b[0;34m\u001b[0m\u001b[0m\n\u001b[0;32m--> 656\u001b[0;31m     \u001b[0;32mreturn\u001b[0m \u001b[0m_nx\u001b[0m\u001b[0;34m.\u001b[0m\u001b[0mconcatenate\u001b[0m\u001b[0;34m(\u001b[0m\u001b[0marrays\u001b[0m\u001b[0;34m,\u001b[0m \u001b[0;36m1\u001b[0m\u001b[0;34m)\u001b[0m\u001b[0;34m\u001b[0m\u001b[0;34m\u001b[0m\u001b[0m\n\u001b[0m\u001b[1;32m    657\u001b[0m \u001b[0;34m\u001b[0m\u001b[0m\n\u001b[1;32m    658\u001b[0m \u001b[0;34m\u001b[0m\u001b[0m\n",
      "\u001b[0;32m<__array_function__ internals>\u001b[0m in \u001b[0;36mconcatenate\u001b[0;34m(*args, **kwargs)\u001b[0m\n",
      "\u001b[0;31mValueError\u001b[0m: all the input array dimensions for the concatenation axis must match exactly, but along dimension 0, the array at index 0 has size 0 and the array at index 1 has size 1"
     ]
    }
   ],
   "source": [
    "env = StocksEnv(df, window_size=32, frame_bound=(3, 10))"
   ]
  },
  {
   "cell_type": "code",
   "execution_count": null,
   "id": "8da2c6b2",
   "metadata": {},
   "outputs": [],
   "source": []
  }
 ],
 "metadata": {
  "kernelspec": {
   "display_name": "rl_trading",
   "language": "python",
   "name": "rl_trading"
  },
  "language_info": {
   "codemirror_mode": {
    "name": "ipython",
    "version": 3
   },
   "file_extension": ".py",
   "mimetype": "text/x-python",
   "name": "python",
   "nbconvert_exporter": "python",
   "pygments_lexer": "ipython3",
   "version": "3.8.12"
  }
 },
 "nbformat": 4,
 "nbformat_minor": 5
}

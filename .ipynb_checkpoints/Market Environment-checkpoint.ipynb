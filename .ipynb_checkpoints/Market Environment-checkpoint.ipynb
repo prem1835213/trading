{
 "cells": [
  {
   "cell_type": "code",
   "execution_count": 22,
   "id": "7e2fcb5d",
   "metadata": {},
   "outputs": [],
   "source": [
    "from crypto_env import Market\n",
    "import pandas as pd\n",
    "import numpy as np\n",
    "from utils import *\n",
    "from ac import Actor, Critic\n",
    "from dqn import ReplayMemory, DQN_Agent\n",
    "import gym\n",
    "import torch\n",
    "import gym_anytrading\n",
    "\n",
    "from stable_baselines3 import DQN\n",
    "from stable_baselines3.common.vec_env import DummyVecEnv"
   ]
  },
  {
   "cell_type": "code",
   "execution_count": 2,
   "id": "29357656",
   "metadata": {},
   "outputs": [],
   "source": [
    "df = pd.read_csv('data/raw/FTX/btc_usd_1h.csv', header=None)\n",
    "df.columns = ['ts', 'open', 'high', 'low', 'close', 'volume']"
   ]
  },
  {
   "cell_type": "code",
   "execution_count": 3,
   "id": "d5fa1176",
   "metadata": {},
   "outputs": [],
   "source": [
    "market_data = df.copy()\n",
    "market_data = market_data.drop(\"ts\", axis=1)"
   ]
  },
  {
   "cell_type": "code",
   "execution_count": 4,
   "id": "5e4338be",
   "metadata": {},
   "outputs": [],
   "source": [
    "market_train = market_data[:int(len(market_data)/2)]\n",
    "market_test = market_data[int(len(market_data)/2):]"
   ]
  },
  {
   "cell_type": "code",
   "execution_count": 19,
   "id": "b57f2c21",
   "metadata": {},
   "outputs": [
    {
     "ename": "Error",
     "evalue": "Cannot re-register id: Market-v0",
     "output_type": "error",
     "traceback": [
      "\u001b[0;31m---------------------------------------------------------------------------\u001b[0m",
      "\u001b[0;31mError\u001b[0m                                     Traceback (most recent call last)",
      "\u001b[0;32m/var/folders/xz/n0y08r_x22zbwf9d7vsmv2p80000gn/T/ipykernel_93400/2676942769.py\u001b[0m in \u001b[0;36m<module>\u001b[0;34m\u001b[0m\n\u001b[0;32m----> 1\u001b[0;31m gym.register(\n\u001b[0m\u001b[1;32m      2\u001b[0m     \u001b[0mid\u001b[0m\u001b[0;34m=\u001b[0m\u001b[0;34m'Market-v0'\u001b[0m\u001b[0;34m,\u001b[0m\u001b[0;34m\u001b[0m\u001b[0;34m\u001b[0m\u001b[0m\n\u001b[1;32m      3\u001b[0m     \u001b[0mentry_point\u001b[0m\u001b[0;34m=\u001b[0m\u001b[0;34m'crypto_env:Market'\u001b[0m\u001b[0;34m\u001b[0m\u001b[0;34m\u001b[0m\u001b[0m\n\u001b[1;32m      4\u001b[0m )\n\u001b[1;32m      5\u001b[0m \u001b[0;34m\u001b[0m\u001b[0m\n",
      "\u001b[0;32m/usr/local/anaconda3/envs/rl_trading/lib/python3.8/site-packages/gym/envs/registration.py\u001b[0m in \u001b[0;36mregister\u001b[0;34m(id, **kwargs)\u001b[0m\n\u001b[1;32m    178\u001b[0m \u001b[0;34m\u001b[0m\u001b[0m\n\u001b[1;32m    179\u001b[0m \u001b[0;32mdef\u001b[0m \u001b[0mregister\u001b[0m\u001b[0;34m(\u001b[0m\u001b[0mid\u001b[0m\u001b[0;34m,\u001b[0m \u001b[0;34m**\u001b[0m\u001b[0mkwargs\u001b[0m\u001b[0;34m)\u001b[0m\u001b[0;34m:\u001b[0m\u001b[0;34m\u001b[0m\u001b[0;34m\u001b[0m\u001b[0m\n\u001b[0;32m--> 180\u001b[0;31m     \u001b[0;32mreturn\u001b[0m \u001b[0mregistry\u001b[0m\u001b[0;34m.\u001b[0m\u001b[0mregister\u001b[0m\u001b[0;34m(\u001b[0m\u001b[0mid\u001b[0m\u001b[0;34m,\u001b[0m \u001b[0;34m**\u001b[0m\u001b[0mkwargs\u001b[0m\u001b[0;34m)\u001b[0m\u001b[0;34m\u001b[0m\u001b[0;34m\u001b[0m\u001b[0m\n\u001b[0m\u001b[1;32m    181\u001b[0m \u001b[0;34m\u001b[0m\u001b[0m\n\u001b[1;32m    182\u001b[0m \u001b[0;34m\u001b[0m\u001b[0m\n",
      "\u001b[0;32m/usr/local/anaconda3/envs/rl_trading/lib/python3.8/site-packages/gym/envs/registration.py\u001b[0m in \u001b[0;36mregister\u001b[0;34m(self, id, **kwargs)\u001b[0m\n\u001b[1;32m    169\u001b[0m     \u001b[0;32mdef\u001b[0m \u001b[0mregister\u001b[0m\u001b[0;34m(\u001b[0m\u001b[0mself\u001b[0m\u001b[0;34m,\u001b[0m \u001b[0mid\u001b[0m\u001b[0;34m,\u001b[0m \u001b[0;34m**\u001b[0m\u001b[0mkwargs\u001b[0m\u001b[0;34m)\u001b[0m\u001b[0;34m:\u001b[0m\u001b[0;34m\u001b[0m\u001b[0;34m\u001b[0m\u001b[0m\n\u001b[1;32m    170\u001b[0m         \u001b[0;32mif\u001b[0m \u001b[0mid\u001b[0m \u001b[0;32min\u001b[0m \u001b[0mself\u001b[0m\u001b[0;34m.\u001b[0m\u001b[0menv_specs\u001b[0m\u001b[0;34m:\u001b[0m\u001b[0;34m\u001b[0m\u001b[0;34m\u001b[0m\u001b[0m\n\u001b[0;32m--> 171\u001b[0;31m             \u001b[0;32mraise\u001b[0m \u001b[0merror\u001b[0m\u001b[0;34m.\u001b[0m\u001b[0mError\u001b[0m\u001b[0;34m(\u001b[0m\u001b[0;34m\"Cannot re-register id: {}\"\u001b[0m\u001b[0;34m.\u001b[0m\u001b[0mformat\u001b[0m\u001b[0;34m(\u001b[0m\u001b[0mid\u001b[0m\u001b[0;34m)\u001b[0m\u001b[0;34m)\u001b[0m\u001b[0;34m\u001b[0m\u001b[0;34m\u001b[0m\u001b[0m\n\u001b[0m\u001b[1;32m    172\u001b[0m         \u001b[0mself\u001b[0m\u001b[0;34m.\u001b[0m\u001b[0menv_specs\u001b[0m\u001b[0;34m[\u001b[0m\u001b[0mid\u001b[0m\u001b[0;34m]\u001b[0m \u001b[0;34m=\u001b[0m \u001b[0mEnvSpec\u001b[0m\u001b[0;34m(\u001b[0m\u001b[0mid\u001b[0m\u001b[0;34m,\u001b[0m \u001b[0;34m**\u001b[0m\u001b[0mkwargs\u001b[0m\u001b[0;34m)\u001b[0m\u001b[0;34m\u001b[0m\u001b[0;34m\u001b[0m\u001b[0m\n\u001b[1;32m    173\u001b[0m \u001b[0;34m\u001b[0m\u001b[0m\n",
      "\u001b[0;31mError\u001b[0m: Cannot re-register id: Market-v0"
     ]
    }
   ],
   "source": [
    "gym.register(\n",
    "    id='Market-v0',\n",
    "    entry_point='crypto_env:Market'\n",
    ")\n",
    "\n",
    "env_maker = lambda: gym.make(\n",
    "    'Market-v0',\n",
    "    market_data = market_train,\n",
    "    initial_balance = 1000000\n",
    ")\n",
    "\n",
    "env = DummyVecEnv([env_maker])"
   ]
  },
  {
   "cell_type": "markdown",
   "id": "94cffe78",
   "metadata": {},
   "source": [
    "### DQN on Market Environment"
   ]
  },
  {
   "cell_type": "code",
   "execution_count": 9,
   "id": "d13139d2",
   "metadata": {},
   "outputs": [],
   "source": [
    "agent = DQN(policy='MlpPolicy', env=env)\n",
    "trained_dqn = agent.learn(total_timesteps=100000)"
   ]
  },
  {
   "cell_type": "code",
   "execution_count": 10,
   "id": "19fdcb21",
   "metadata": {},
   "outputs": [],
   "source": [
    "test_env_maker = lambda: gym.make('Market-v0', market_data=market_test.reset_index().drop('index',axis=1), initial_balance=1000000)\n",
    "test_env = test_env_maker()"
   ]
  },
  {
   "cell_type": "code",
   "execution_count": 11,
   "id": "66acd7ef",
   "metadata": {},
   "outputs": [],
   "source": [
    "with torch.no_grad():\n",
    "    obs = test_env.reset()\n",
    "    \n",
    "    s = obs\n",
    "    while s is not None:\n",
    "        a, _ = trained_dqn.predict(torch.FloatTensor(s))\n",
    "        s_next, r, done, info = test_env.step(a)\n",
    "        \n",
    "        if done:\n",
    "            s = None\n",
    "        else:\n",
    "            s = s_next\n",
    "# test_env.close()"
   ]
  },
  {
   "cell_type": "code",
   "execution_count": 14,
   "id": "57be5307",
   "metadata": {},
   "outputs": [
    {
     "name": "stdout",
     "output_type": "stream",
     "text": [
      "Price: 58829.0, Total Reward: 6185218854.846252, Account Value: 3449564.8354492364\n"
     ]
    }
   ],
   "source": [
    "test_env.render()"
   ]
  },
  {
   "cell_type": "code",
   "execution_count": 13,
   "id": "de097ff5",
   "metadata": {},
   "outputs": [
    {
     "data": {
      "image/png": "[encoded data removed]",
      "text/plain": [
       "<Figure size 432x288 with 1 Axes>"
      ]
     },
     "metadata": {
      "needs_background": "light"
     },
     "output_type": "display_data"
    }
   ],
   "source": [
    "test_env.render_history()"
   ]
  },
  {
   "cell_type": "code",
   "execution_count": null,
   "id": "1177de6f",
   "metadata": {},
   "outputs": [],
   "source": [
    "actor = Actor(8)\n",
    "critic = Critic(8)"
   ]
  },
  {
   "cell_type": "code",
   "execution_count": null,
   "id": "4e48ce96",
   "metadata": {},
   "outputs": [],
   "source": [
    "train_ac(actor, critic, env, 0.99)"
   ]
  },
  {
   "cell_type": "code",
   "execution_count": null,
   "id": "a314d924",
   "metadata": {},
   "outputs": [],
   "source": [
    "import torch.optim as optim"
   ]
  },
  {
   "cell_type": "code",
   "execution_count": null,
   "id": "8f126fcd",
   "metadata": {},
   "outputs": [],
   "source": [
    "GAMMA = 0.99"
   ]
  },
  {
   "cell_type": "code",
   "execution_count": null,
   "id": "937518b9",
   "metadata": {},
   "outputs": [],
   "source": [
    "a_opt = optim.Adam(actor.parameters(), lr=0.001)\n",
    "c_opt = optim.Adam(critic.parameters(), lr=0.001)\n",
    "criterion = nn.MSELoss()"
   ]
  },
  {
   "cell_type": "code",
   "execution_count": null,
   "id": "3323828a",
   "metadata": {},
   "outputs": [],
   "source": [
    "def select_action(mu, sigma):\n",
    "    m = torch.distributions.Normal(mu, sigma)\n",
    "    a = m.sample()\n",
    "    return a, m.log_prob(a)"
   ]
  },
  {
   "cell_type": "code",
   "execution_count": null,
   "id": "65328868",
   "metadata": {},
   "outputs": [],
   "source": [
    "# s = torch.FloatTensor(env.reset())\n",
    "s = s.detach()\n",
    "mu, sigma = actor(s)\n",
    "mu = nn.Tanh()(mu)\n",
    "sigma = nn.Sigmoid()(sigma) + 1e-5\n",
    "\n",
    "a, lp = select_action(mu, sigma)\n",
    "print(a)\n",
    "\n",
    "s_next, r, done, info = env.step(a)\n",
    "s_next = torch.FloatTensor(s_next)\n",
    "s_next = s_next.detach()\n",
    "\n",
    "label = r + GAMMA * critic(s_next)\n",
    "c_opt.zero_grad()\n",
    "c_loss = criterion(critic(s), label)\n",
    "c_loss.backward(retain_graph=True)\n",
    "c_opt.step()\n",
    "\n",
    "\n",
    "a_opt.zero_grad()\n",
    "a_loss = (r + GAMMA * critic(s_next) - critic(s)) * -lp\n",
    "a_loss.backward()\n",
    "a_opt.step()"
   ]
  },
  {
   "cell_type": "code",
   "execution_count": null,
   "id": "05bb86a5",
   "metadata": {},
   "outputs": [],
   "source": [
    "env.render()"
   ]
  },
  {
   "cell_type": "code",
   "execution_count": null,
   "id": "2b49a3be",
   "metadata": {},
   "outputs": [],
   "source": []
  },
  {
   "cell_type": "code",
   "execution_count": null,
   "id": "3f5c27ec",
   "metadata": {},
   "outputs": [],
   "source": [
    "market_data.head(10)"
   ]
  },
  {
   "cell_type": "code",
   "execution_count": null,
   "id": "9f707f41",
   "metadata": {},
   "outputs": [],
   "source": [
    "env.render()"
   ]
  },
  {
   "cell_type": "code",
   "execution_count": null,
   "id": "549a5c6b",
   "metadata": {},
   "outputs": [],
   "source": [
    "# prediction is v(s)\n",
    "# label is r + v(s')"
   ]
  },
  {
   "cell_type": "code",
   "execution_count": null,
   "id": "6f886fec",
   "metadata": {},
   "outputs": [],
   "source": []
  }
 ],
 "metadata": {
  "kernelspec": {
   "display_name": "rl_trading",
   "language": "python",
   "name": "rl_trading"
  },
  "language_info": {
   "codemirror_mode": {
    "name": "ipython",
    "version": 3
   },
   "file_extension": ".py",
   "mimetype": "text/x-python",
   "name": "python",
   "nbconvert_exporter": "python",
   "pygments_lexer": "ipython3",
   "version": "3.8.12"
  }
 },
 "nbformat": 4,
 "nbformat_minor": 5
}

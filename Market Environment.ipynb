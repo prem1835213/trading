{
 "cells": [
  {
   "cell_type": "code",
   "execution_count": 1,
   "id": "7e2fcb5d",
   "metadata": {},
   "outputs": [],
   "source": [
    "from crypto_env import Market\n",
    "import pandas as pd\n",
    "import numpy as np\n",
    "from utils import *\n",
    "from ac import Actor, Critic\n",
    "from dqn import ReplayMemory, DQN_Agent\n",
    "import gym\n",
    "import torch\n",
    "import gym_anytrading\n",
    "\n",
    "from stable_baselines3 import DQN\n",
    "from stable_baselines3.common.vec_env import DummyVecEnv"
   ]
  },
  {
   "cell_type": "code",
   "execution_count": 2,
   "id": "29357656",
   "metadata": {},
   "outputs": [],
   "source": [
    "df = pd.read_csv('data/raw/FTX/btc_usd_1h.csv', header=None)\n",
    "df.columns = ['ts', 'open', 'high', 'low', 'close', 'volume']"
   ]
  },
  {
   "cell_type": "code",
   "execution_count": 3,
   "id": "d5fa1176",
   "metadata": {},
   "outputs": [],
   "source": [
    "market_data = df.copy()\n",
    "market_data = market_data.drop(\"ts\", axis=1)"
   ]
  },
  {
   "cell_type": "code",
   "execution_count": 4,
   "id": "5e4338be",
   "metadata": {},
   "outputs": [],
   "source": [
    "market_train = market_data[:int(len(market_data)/2)]\n",
    "market_test = market_data[int(len(market_data)/2):]"
   ]
  },
  {
   "cell_type": "markdown",
   "id": "d553aaf0",
   "metadata": {},
   "source": [
    "### DQN on Market Environment"
   ]
  },
  {
   "cell_type": "code",
   "execution_count": null,
   "id": "d6c85555",
   "metadata": {},
   "outputs": [
    {
     "name": "stdout",
     "output_type": "stream",
     "text": [
      "\n",
      "Episode:  0\n"
     ]
    }
   ],
   "source": [
    "env = Market(market_train, initial_balance=1000000)\n",
    "\n",
    "agent = DQN_Agent(memory_length=500, state_dim=len(env.observation_space.sample()), num_actions=3)\n",
    "\n",
    "train_dqn(agent, env, batch_size=32, discount=0.99, eps_init=1, eps_decay=0.99, eps_min=0.1, num_actions=3)"
   ]
  },
  {
   "cell_type": "code",
   "execution_count": null,
   "id": "42938ab9",
   "metadata": {},
   "outputs": [],
   "source": [
    "market_train.head(10)"
   ]
  },
  {
   "cell_type": "markdown",
   "id": "94cffe78",
   "metadata": {},
   "source": [
    "### Stable-Baselines DQN on Market Environment"
   ]
  },
  {
   "cell_type": "code",
   "execution_count": null,
   "id": "76ac4f43",
   "metadata": {},
   "outputs": [],
   "source": [
    "gym.register(\n",
    "    id='Market-v0',\n",
    "    entry_point='crypto_env:Market'\n",
    ")\n",
    "\n",
    "env_maker = lambda: gym.make(\n",
    "    'Market-v0',\n",
    "    market_data = market_train,\n",
    "    initial_balance = 1000000\n",
    ")\n",
    "\n",
    "env = DummyVecEnv([env_maker])"
   ]
  },
  {
   "cell_type": "code",
   "execution_count": null,
   "id": "d13139d2",
   "metadata": {},
   "outputs": [],
   "source": [
    "agent = DQN(policy='MlpPolicy', env=env)\n",
    "trained_dqn = agent.learn(total_timesteps=100000)"
   ]
  },
  {
   "cell_type": "code",
   "execution_count": null,
   "id": "19fdcb21",
   "metadata": {},
   "outputs": [],
   "source": [
    "test_env_maker = lambda: gym.make('Market-v0', market_data=market_test.reset_index().drop('index',axis=1), initial_balance=1000000)\n",
    "test_env = test_env_maker()"
   ]
  },
  {
   "cell_type": "code",
   "execution_count": null,
   "id": "66acd7ef",
   "metadata": {},
   "outputs": [],
   "source": [
    "with torch.no_grad():\n",
    "    obs = test_env.reset()\n",
    "    \n",
    "    s = obs\n",
    "    while s is not None:\n",
    "        a, _ = trained_dqn.predict(torch.FloatTensor(s))\n",
    "        s_next, r, done, info = test_env.step(a)\n",
    "        \n",
    "        if done:\n",
    "            s = None\n",
    "        else:\n",
    "            s = s_next\n",
    "# test_env.close()"
   ]
  },
  {
   "cell_type": "code",
   "execution_count": null,
   "id": "57be5307",
   "metadata": {},
   "outputs": [],
   "source": [
    "test_env.render()"
   ]
  },
  {
   "cell_type": "code",
   "execution_count": null,
   "id": "de097ff5",
   "metadata": {},
   "outputs": [],
   "source": [
    "test_env.render_history()"
   ]
  },
  {
   "cell_type": "code",
   "execution_count": null,
   "id": "1177de6f",
   "metadata": {},
   "outputs": [],
   "source": [
    "actor = Actor(8)\n",
    "critic = Critic(8)"
   ]
  },
  {
   "cell_type": "code",
   "execution_count": null,
   "id": "4e48ce96",
   "metadata": {},
   "outputs": [],
   "source": [
    "train_ac(actor, critic, env, 0.99)"
   ]
  },
  {
   "cell_type": "code",
   "execution_count": null,
   "id": "a314d924",
   "metadata": {},
   "outputs": [],
   "source": [
    "import torch.optim as optim"
   ]
  },
  {
   "cell_type": "code",
   "execution_count": null,
   "id": "8f126fcd",
   "metadata": {},
   "outputs": [],
   "source": [
    "GAMMA = 0.99"
   ]
  },
  {
   "cell_type": "code",
   "execution_count": null,
   "id": "937518b9",
   "metadata": {},
   "outputs": [],
   "source": [
    "a_opt = optim.Adam(actor.parameters(), lr=0.001)\n",
    "c_opt = optim.Adam(critic.parameters(), lr=0.001)\n",
    "criterion = nn.MSELoss()"
   ]
  },
  {
   "cell_type": "code",
   "execution_count": null,
   "id": "3323828a",
   "metadata": {},
   "outputs": [],
   "source": [
    "def select_action(mu, sigma):\n",
    "    m = torch.distributions.Normal(mu, sigma)\n",
    "    a = m.sample()\n",
    "    return a, m.log_prob(a)"
   ]
  },
  {
   "cell_type": "code",
   "execution_count": null,
   "id": "65328868",
   "metadata": {},
   "outputs": [],
   "source": [
    "# s = torch.FloatTensor(env.reset())\n",
    "s = s.detach()\n",
    "mu, sigma = actor(s)\n",
    "mu = nn.Tanh()(mu)\n",
    "sigma = nn.Sigmoid()(sigma) + 1e-5\n",
    "\n",
    "a, lp = select_action(mu, sigma)\n",
    "print(a)\n",
    "\n",
    "s_next, r, done, info = env.step(a)\n",
    "s_next = torch.FloatTensor(s_next)\n",
    "s_next = s_next.detach()\n",
    "\n",
    "label = r + GAMMA * critic(s_next)\n",
    "c_opt.zero_grad()\n",
    "c_loss = criterion(critic(s), label)\n",
    "c_loss.backward(retain_graph=True)\n",
    "c_opt.step()\n",
    "\n",
    "\n",
    "a_opt.zero_grad()\n",
    "a_loss = (r + GAMMA * critic(s_next) - critic(s)) * -lp\n",
    "a_loss.backward()\n",
    "a_opt.step()"
   ]
  },
  {
   "cell_type": "code",
   "execution_count": null,
   "id": "05bb86a5",
   "metadata": {},
   "outputs": [],
   "source": [
    "env.render()"
   ]
  },
  {
   "cell_type": "code",
   "execution_count": null,
   "id": "2b49a3be",
   "metadata": {},
   "outputs": [],
   "source": []
  },
  {
   "cell_type": "code",
   "execution_count": null,
   "id": "3f5c27ec",
   "metadata": {},
   "outputs": [],
   "source": [
    "market_data.head(10)"
   ]
  },
  {
   "cell_type": "code",
   "execution_count": null,
   "id": "9f707f41",
   "metadata": {},
   "outputs": [],
   "source": [
    "env.render()"
   ]
  },
  {
   "cell_type": "code",
   "execution_count": null,
   "id": "549a5c6b",
   "metadata": {},
   "outputs": [],
   "source": [
    "# prediction is v(s)\n",
    "# label is r + v(s')"
   ]
  },
  {
   "cell_type": "code",
   "execution_count": null,
   "id": "6f886fec",
   "metadata": {},
   "outputs": [],
   "source": []
  }
 ],
 "metadata": {
  "kernelspec": {
   "display_name": "rl_trading",
   "language": "python",
   "name": "rl_trading"
  },
  "language_info": {
   "codemirror_mode": {
    "name": "ipython",
    "version": 3
   },
   "file_extension": ".py",
   "mimetype": "text/x-python",
   "name": "python",
   "nbconvert_exporter": "python",
   "pygments_lexer": "ipython3",
   "version": "3.8.12"
  }
 },
 "nbformat": 4,
 "nbformat_minor": 5
}

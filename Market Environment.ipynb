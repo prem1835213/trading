{
 "cells": [
  {
   "cell_type": "code",
   "execution_count": 1,
   "id": "7e2fcb5d",
   "metadata": {},
   "outputs": [],
   "source": [
    "from crypto_env import Market\n",
    "import pandas as pd\n",
    "import numpy as np\n",
    "from utils import *\n",
    "from ac import Actor, Critic\n",
    "from dqn import ReplayMemory, DQN_Agent\n",
    "import gym\n",
    "import torch\n",
    "import gym_anytrading\n",
    "\n",
    "from stable_baselines3 import DQN, A2C\n",
    "from stable_baselines3.common.vec_env import DummyVecEnv"
   ]
  },
  {
   "cell_type": "code",
   "execution_count": 2,
   "id": "29357656",
   "metadata": {},
   "outputs": [],
   "source": [
    "df = pd.read_csv('data/raw/FTX/btc_usd_1h.csv', header=None)\n",
    "df.columns = ['ts', 'open', 'high', 'low', 'close', 'volume']"
   ]
  },
  {
   "cell_type": "code",
   "execution_count": 3,
   "id": "d5fa1176",
   "metadata": {},
   "outputs": [],
   "source": [
    "market_data = df.copy()\n",
    "market_data = market_data.drop(\"ts\", axis=1)"
   ]
  },
  {
   "cell_type": "code",
   "execution_count": 4,
   "id": "5e4338be",
   "metadata": {},
   "outputs": [],
   "source": [
    "market_train = market_data[:int(len(market_data)/2)]\n",
    "market_test = market_data[int(len(market_data)/2):]"
   ]
  },
  {
   "cell_type": "markdown",
   "id": "8ecbbe55",
   "metadata": {},
   "source": [
    "### DQN on Market Environment"
   ]
  },
  {
   "cell_type": "code",
   "execution_count": null,
   "id": "373ece9d",
   "metadata": {},
   "outputs": [
    {
     "name": "stdout",
     "output_type": "stream",
     "text": [
      "\n",
      "Episode:  0\n",
      "Price: 10756.0, Total Reward: 58101552.894238904, Account Value: 937943.9653456229\n",
      "\n",
      "Episode:  1\n",
      "Price: 10756.0, Total Reward: 60934636.14177145, Account Value: 1030571.6173972158\n",
      "\n",
      "Episode:  2\n",
      "Price: 10756.0, Total Reward: 18805031.100533407, Account Value: 601885.5134717441\n",
      "\n",
      "Episode:  3\n",
      "Price: 10756.0, Total Reward: 231010.64181555645, Account Value: 1231010.6418155564\n",
      "\n",
      "Episode:  4\n",
      "Price: 10756.0, Total Reward: 2061469.9984156904, Account Value: 1143176.3139496509\n",
      "\n",
      "Episode:  5\n",
      "Price: 10756.0, Total Reward: 177750.86402666057, Account Value: 1177750.8640266606\n",
      "\n",
      "Episode:  6\n",
      "Price: 10756.0, Total Reward: 1505573.3241936243, Account Value: 541970.939825792\n",
      "\n",
      "Episode:  7\n",
      "Price: 10756.0, Total Reward: 3730373.4345033504, Account Value: 1431987.5971620157\n",
      "\n",
      "Episode:  8\n",
      "Price: 10756.0, Total Reward: 3293717.805139066, Account Value: 1140206.7079408846\n",
      "\n",
      "Episode:  9\n",
      "Price: 10756.0, Total Reward: 7172600.1414088, Account Value: 1081318.0969862556\n",
      "\n",
      "Episode:  10\n",
      "Price: 10756.0, Total Reward: 941467.9383800072, Account Value: 918135.7358840646\n",
      "\n",
      "Episode:  11\n",
      "Price: 10756.0, Total Reward: 5877651.167404237, Account Value: 999238.449244966\n",
      "\n",
      "Episode:  12\n",
      "Price: 10756.0, Total Reward: 2123448.507121267, Account Value: 1049074.1819727025\n",
      "\n",
      "Episode:  13\n",
      "Price: 10756.0, Total Reward: 3541226.312416668, Account Value: 863306.091585127\n",
      "\n",
      "Episode:  14\n",
      "Price: 10756.0, Total Reward: 2102904.813843927, Account Value: 1086195.2730265246\n",
      "\n",
      "Episode:  15\n",
      "Price: 10756.0, Total Reward: 3128819.674782305, Account Value: 1039774.6271573758\n",
      "\n",
      "Episode:  16\n",
      "Price: 10756.0, Total Reward: 3044882.150879465, Account Value: 1133389.0988242133\n",
      "\n",
      "Episode:  17\n",
      "Price: 10756.0, Total Reward: -95389.69165795983, Account Value: 904610.3083420402\n",
      "\n",
      "Episode:  18\n",
      "Price: 10756.0, Total Reward: 184312.7171941708, Account Value: 1184312.7171941707\n",
      "\n",
      "Episode:  19\n",
      "Price: 10756.0, Total Reward: 4491572.128188502, Account Value: 847787.8288552412\n",
      "\n",
      "Episode:  20\n",
      "Price: 10756.0, Total Reward: 158560.97667012934, Account Value: 1158560.9766701295\n",
      "\n",
      "Episode:  21\n",
      "Price: 10756.0, Total Reward: 711951.8594971917, Account Value: 719949.5681735997\n",
      "\n",
      "Episode:  22\n",
      "Price: 10756.0, Total Reward: -23843.43050862674, Account Value: 976156.5694913733\n",
      "\n",
      "Episode:  23\n",
      "Price: 10756.0, Total Reward: 6094820.408948466, Account Value: 1066970.7607411612\n",
      "\n",
      "Episode:  24\n",
      "Price: 10756.0, Total Reward: -194552.61027521058, Account Value: 805447.3897247894\n",
      "\n",
      "Episode:  25\n",
      "Price: 10756.0, Total Reward: 1190866.015500757, Account Value: 1149791.2702917168\n",
      "\n",
      "Episode:  26\n",
      "Price: 10756.0, Total Reward: 2481670.47358698, Account Value: 1247184.4292819807\n",
      "\n",
      "Episode:  27\n"
     ]
    }
   ],
   "source": [
    "env = Market(market_train, initial_balance=1000000)\n",
    "\n",
    "agent = DQN_Agent(memory_length=500, state_dim=len(env.observation_space.sample()), num_actions=3)\n",
    "\n",
    "train_dqn(agent, env, batch_size=32, discount=0.99, eps_init=1, eps_decay=0.99, eps_min=0.1, num_actions=3, n_episodes=100)"
   ]
  },
  {
   "cell_type": "code",
   "execution_count": null,
   "id": "10eeac87",
   "metadata": {},
   "outputs": [],
   "source": [
    "market_train.head(10)"
   ]
  },
  {
   "cell_type": "markdown",
   "id": "94cffe78",
   "metadata": {},
   "source": [
    "### Stable-Baselines DQN on Market Environment"
   ]
  },
  {
   "cell_type": "code",
   "execution_count": null,
   "id": "98ef119a",
   "metadata": {},
   "outputs": [],
   "source": [
    "gym.register(\n",
    "    id='Market-v0',\n",
    "    entry_point='crypto_env:Market'\n",
    ")\n",
    "\n",
    "env_maker = lambda: gym.make(\n",
    "    'Market-v0',\n",
    "    market_data = market_train,\n",
    "    initial_balance = 1000000\n",
    ")\n",
    "\n",
    "env = DummyVecEnv([env_maker])"
   ]
  },
  {
   "cell_type": "code",
   "execution_count": null,
   "id": "d13139d2",
   "metadata": {},
   "outputs": [],
   "source": [
    "agent = DQN(policy='MlpPolicy', env=env)\n",
    "trained_dqn = agent.learn(total_timesteps=100000)"
   ]
  },
  {
   "cell_type": "code",
   "execution_count": null,
   "id": "19fdcb21",
   "metadata": {},
   "outputs": [],
   "source": [
    "test_env_maker = lambda: gym.make('Market-v0', market_data=market_test.reset_index().drop('index',axis=1), initial_balance=1000000)\n",
    "test_env = test_env_maker()"
   ]
  },
  {
   "cell_type": "code",
   "execution_count": null,
   "id": "66acd7ef",
   "metadata": {},
   "outputs": [],
   "source": [
    "with torch.no_grad():\n",
    "    obs = test_env.reset()\n",
    "    \n",
    "    s = obs\n",
    "    while s is not None:\n",
    "        a, _ = trained_dqn.predict(torch.FloatTensor(s))\n",
    "        s_next, r, done, info = test_env.step(a)\n",
    "        \n",
    "        if done:\n",
    "            s = None\n",
    "        else:\n",
    "            s = s_next\n",
    "test_env.close()"
   ]
  },
  {
   "cell_type": "code",
   "execution_count": null,
   "id": "57be5307",
   "metadata": {},
   "outputs": [],
   "source": [
    "test_env.render()"
   ]
  },
  {
   "cell_type": "markdown",
   "id": "bbd90f35",
   "metadata": {},
   "source": [
    "### Stable-Baselines A2C on Market Environment"
   ]
  },
  {
   "cell_type": "code",
   "execution_count": null,
   "id": "1177de6f",
   "metadata": {},
   "outputs": [],
   "source": [
    "env_maker = lambda: gym.make(\n",
    "    'Market-v0',\n",
    "    market_data = market_train,\n",
    "    initial_balance = 1000000\n",
    ")\n",
    "\n",
    "env = DummyVecEnv([env_maker])"
   ]
  },
  {
   "cell_type": "code",
   "execution_count": null,
   "id": "ab996a32",
   "metadata": {},
   "outputs": [],
   "source": [
    "agent = A2C(policy='MlpPolicy', env=env)\n",
    "trained_a2c = agent.learn(total_timesteps=100000)"
   ]
  },
  {
   "cell_type": "code",
   "execution_count": null,
   "id": "3f3a1949",
   "metadata": {},
   "outputs": [],
   "source": [
    "test_env_maker = lambda: gym.make('Market-v0', market_data=market_test.reset_index().drop('index',axis=1), initial_balance=1000000)\n",
    "test_env = test_env_maker()"
   ]
  },
  {
   "cell_type": "code",
   "execution_count": null,
   "id": "ccf71e63",
   "metadata": {},
   "outputs": [],
   "source": [
    "with torch.no_grad():\n",
    "    obs = test_env.reset()\n",
    "    \n",
    "    s = obs\n",
    "    while s is not None:\n",
    "        a, _ = trained_dqn.predict(torch.FloatTensor(s))\n",
    "        s_next, r, done, info = test_env.step(a)\n",
    "        \n",
    "        if done:\n",
    "            s = None\n",
    "        else:\n",
    "            s = s_next\n",
    "# test_env.close()"
   ]
  },
  {
   "cell_type": "code",
   "execution_count": null,
   "id": "be7b53f6",
   "metadata": {},
   "outputs": [],
   "source": [
    "test_env.render()"
   ]
  },
  {
   "cell_type": "code",
   "execution_count": null,
   "id": "d65fda75",
   "metadata": {},
   "outputs": [],
   "source": [
    "test_env.close()"
   ]
  },
  {
   "cell_type": "code",
   "execution_count": null,
   "id": "4e48ce96",
   "metadata": {},
   "outputs": [],
   "source": [
    "train_ac(actor, critic, env, 0.99)"
   ]
  }
 ],
 "metadata": {
  "kernelspec": {
   "display_name": "rl_trading",
   "language": "python",
   "name": "rl_trading"
  },
  "language_info": {
   "codemirror_mode": {
    "name": "ipython",
    "version": 3
   },
   "file_extension": ".py",
   "mimetype": "text/x-python",
   "name": "python",
   "nbconvert_exporter": "python",
   "pygments_lexer": "ipython3",
   "version": "3.8.12"
  }
 },
 "nbformat": 4,
 "nbformat_minor": 5
}

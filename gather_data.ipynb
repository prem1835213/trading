{
 "cells": [
  {
   "cell_type": "code",
   "execution_count": 51,
   "id": "34a50f58",
   "metadata": {},
   "outputs": [],
   "source": [
    "import ccxt\n",
    "import datetime\n",
    "import time\n",
    "from pathlib import Path\n",
    "import csv"
   ]
  },
  {
   "cell_type": "code",
   "execution_count": 52,
   "id": "ac58fc04",
   "metadata": {},
   "outputs": [],
   "source": [
    "SECONDS_IN_HOUR = 60*60\n",
    "SECONDS_IN_DAY = SECONDS_IN_HOUR*24\n",
    "SECONDS_IN_MONTH = SECONDS_IN_DAY*30\n",
    "SECONDS_IN_YEAR = SECONDS_IN_DAY*365"
   ]
  },
  {
   "cell_type": "code",
   "execution_count": 117,
   "id": "3199c9af",
   "metadata": {},
   "outputs": [],
   "source": [
    "start_time = datetime.datetime(2020, 3, 1, 0, 0)\n",
    "start_time_unix = time.mktime(start_time.timetuple())\n",
    "start_time_unix_ms = start_time_unix * 1000"
   ]
  },
  {
   "cell_type": "code",
   "execution_count": 119,
   "id": "f38b052d",
   "metadata": {},
   "outputs": [],
   "source": [
    "def retry_fetch_ohlcv(exchange, max_retries, symbol, timeframe, since, limit):\n",
    "    num_retries = 0\n",
    "    try:\n",
    "        num_retries += 1\n",
    "        ohlcv = exchange.fetch_ohlcv(symbol, timeframe, since, limit)\n",
    "        # print('Fetched', len(ohlcv), symbol, 'candles from', exchange.iso8601 (ohlcv[0][0]), 'to', exchange.iso8601 (ohlcv[-1][0]))\n",
    "        return ohlcv\n",
    "    except Exception:\n",
    "        if num_retries > max_retries:\n",
    "            raise  # Exception('Failed to fetch', timeframe, symbol, 'OHLCV in', max_retries, 'attempts')\n",
    "\n",
    "\n",
    "def scrape_ohlcv(exchange, max_retries, symbol, timeframe, since, limit):\n",
    "    earliest_timestamp = exchange.milliseconds()\n",
    "    timeframe_duration_in_seconds = exchange.parse_timeframe(timeframe)\n",
    "    timeframe_duration_in_ms = timeframe_duration_in_seconds * 1000\n",
    "    timedelta = limit * timeframe_duration_in_ms\n",
    "    all_ohlcv = []\n",
    "    while True:\n",
    "        fetch_since = earliest_timestamp - timedelta\n",
    "        ohlcv = retry_fetch_ohlcv(exchange, max_retries, symbol, timeframe, fetch_since, limit)\n",
    "        # if we have reached the beginning of history\n",
    "        if ohlcv[0][0] >= earliest_timestamp:\n",
    "            break\n",
    "        earliest_timestamp = ohlcv[0][0]\n",
    "        all_ohlcv = ohlcv + all_ohlcv\n",
    "        print(len(all_ohlcv), symbol, 'candles in total from', exchange.iso8601(all_ohlcv[0][0]), 'to', exchange.iso8601(all_ohlcv[-1][0]))\n",
    "        # if we have reached the checkpoint\n",
    "        if fetch_since < since:\n",
    "            break\n",
    "    return all_ohlcv\n",
    "\n",
    "\n",
    "def write_to_csv(filename, exchange, data):\n",
    "    p = Path(\"./data/raw/\", str(exchange))\n",
    "    p.mkdir(parents=True, exist_ok=True)\n",
    "    full_path = p / str(filename)\n",
    "    with Path(full_path).open('w+', newline='') as output_file:\n",
    "        csv_writer = csv.writer(output_file, delimiter=',', quotechar='\"', quoting=csv.QUOTE_MINIMAL)\n",
    "        csv_writer.writerows(data)\n",
    "\n",
    "\n",
    "def scrape_candles_to_csv(filename, exchange_id, max_retries, symbol, timeframe, since, limit):\n",
    "    # instantiate the exchange by id\n",
    "    exchange = getattr(ccxt, exchange_id)({\n",
    "        'enableRateLimit': True,  # required by the Manual\n",
    "    })\n",
    "    # convert since from string to milliseconds integer if needed\n",
    "    if isinstance(since, str):\n",
    "        since = exchange.parse8601(since)\n",
    "    # preload all markets from the exchange\n",
    "    exchange.load_markets()\n",
    "    # fetch all candles\n",
    "    ohlcv = scrape_ohlcv(exchange, max_retries, symbol, timeframe, since, limit)\n",
    "    # save them to csv file\n",
    "    write_to_csv(filename, exchange, ohlcv)\n",
    "    print('Saved', len(ohlcv), 'candles from', exchange.iso8601(ohlcv[0][0]), 'to', exchange.iso8601(ohlcv[-1][0]), 'to', filename)"
   ]
  },
  {
   "cell_type": "code",
   "execution_count": 130,
   "id": "a291958a",
   "metadata": {},
   "outputs": [
    {
     "name": "stdout",
     "output_type": "stream",
     "text": [
      "5000 BTC/USD candles in total from 2021-04-25T20:00:00.000Z to 2021-11-20T03:00:00.000Z\n",
      "10000 BTC/USD candles in total from 2020-09-29T12:00:00.000Z to 2021-11-20T03:00:00.000Z\n",
      "15000 BTC/USD candles in total from 2020-03-05T04:00:00.000Z to 2021-11-20T03:00:00.000Z\n",
      "20000 BTC/USD candles in total from 2019-08-09T20:00:00.000Z to 2021-11-20T03:00:00.000Z\n",
      "Saved 20000 candles from 2019-08-09T20:00:00.000Z to 2021-11-20T03:00:00.000Z to btc_usd_1h.csv\n"
     ]
    }
   ],
   "source": [
    "scrape_candles_to_csv('btc_usd_1h.csv', 'ftx', 100, 'BTC/USD', '1h', '2020-01-0100:00:00z', 5000)"
   ]
  },
  {
   "cell_type": "code",
   "execution_count": null,
   "id": "3fb20f18",
   "metadata": {},
   "outputs": [],
   "source": []
  }
 ],
 "metadata": {
  "kernelspec": {
   "display_name": "rl_trading",
   "language": "python",
   "name": "rl_trading"
  },
  "language_info": {
   "codemirror_mode": {
    "name": "ipython",
    "version": 3
   },
   "file_extension": ".py",
   "mimetype": "text/x-python",
   "name": "python",
   "nbconvert_exporter": "python",
   "pygments_lexer": "ipython3",
   "version": "3.8.12"
  }
 },
 "nbformat": 4,
 "nbformat_minor": 5
}
